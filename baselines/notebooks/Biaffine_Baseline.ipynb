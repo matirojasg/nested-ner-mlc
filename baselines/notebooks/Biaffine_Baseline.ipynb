{
  "nbformat": 4,
  "nbformat_minor": 0,
  "metadata": {
    "colab": {
      "name": "Biaffine_Baseline.ipynb",
      "provenance": [],
      "collapsed_sections": []
    },
    "kernelspec": {
      "name": "python3",
      "display_name": "Python 3"
    },
    "language_info": {
      "name": "python"
    },
    "accelerator": "GPU"
  },
  "cells": [
    {
      "cell_type": "code",
      "metadata": {
        "id": "3-wzWxAg8tS3"
      },
      "source": [
        "# First, we set up the working environment in google drive. If you are working locally, it will not be necessary but make sure that you are using the GPU.\n",
        "from google.colab import drive\n",
        "drive.mount('/content/gdrive')"
      ],
      "execution_count": null,
      "outputs": []
    },
    {
      "cell_type": "code",
      "metadata": {
        "id": "JTirbB3i-Qr7"
      },
      "source": [
        "# We will clone the repositories in the \"MyDrive\" folder.\n",
        "%cd gdrive/MyDrive/"
      ],
      "execution_count": null,
      "outputs": []
    },
    {
      "cell_type": "code",
      "metadata": {
        "id": "ZbxqrZRc-hGq"
      },
      "source": [
        "# We create a folder where we will clone each repository. If the folder is already created, then skip this step.\n",
        "!mkdir biaffine-baseline"
      ],
      "execution_count": null,
      "outputs": []
    },
    {
      "cell_type": "code",
      "metadata": {
        "id": "Ny3UGMm7-ixL"
      },
      "source": [
        "# We advance to the folder where we will save the baselines.\n",
        "%cd biaffine-baseline/"
      ],
      "execution_count": null,
      "outputs": []
    },
    {
      "cell_type": "code",
      "metadata": {
        "id": "uU4MVPjA-ktm"
      },
      "source": [
        "# Clone the project from the official repository. If you have already cloned it, skip this step.\n",
        "!git clone https://github.com/juntaoy/biaffine-ner.git"
      ],
      "execution_count": null,
      "outputs": []
    },
    {
      "cell_type": "code",
      "metadata": {
        "id": "ibkrD4xk-phC"
      },
      "source": [
        "%cd biaffine-ner/"
      ],
      "execution_count": null,
      "outputs": []
    },
    {
      "cell_type": "code",
      "metadata": {
        "id": "TGR4Fh5K-ri7"
      },
      "source": [
        "# We install the repository dependencies.\n",
        "# You may get the following error if you use colab: ERROR: Could not find a version that satisfies the requirement tensorflow-gpu==1.12 (from versions: 1.13.1, 1.13.2, 1.14.0, 1.15.0, 1.15.2, 1.15.3, 1.15.4, 1.15.5, 2. 0.0, 2.0.1, 2.0.2, 2.0.3, 2.0.4, 2.1.0, 2.1.1, 2.1.2, 2.1.3, 2.1.4, 2.2.0, 2.2.1, 2. 2.2, 2.2.3, 2.3.0, 2.3.1, 2.3. 2, 2.3.3, 2.3.4, 2.4.0, 2.4.1, 2.4.2, 2.4.3, 2.4.4, 2.5.0, 2.5.1, 2.5.2, 2.6.0, 2.6.1, 2.6.2, 2.7.0rc0, 2.7.0rc1, 2.7.0)\n",
        "# ERROR: No distribution found matching tensorflow-gpu==1.12. Install version 2.7.0.\n",
        "!pip install -r requirements.txt"
      ],
      "execution_count": null,
      "outputs": []
    },
    {
      "cell_type": "code",
      "metadata": {
        "id": "YQYe-7YB-vGS"
      },
      "source": [
        "%cd extract_bert_features/"
      ],
      "execution_count": null,
      "outputs": []
    },
    {
      "cell_type": "code",
      "metadata": {
        "id": "xf4B1dMo_HCG"
      },
      "source": [
        "!pip uninstall -y tensorflow\n",
        "!pip install tensorflow-gpu==1.14.0"
      ],
      "execution_count": null,
      "outputs": []
    },
    {
      "cell_type": "code",
      "metadata": {
        "id": "us_T-ax-_J6c"
      },
      "source": [
        "# We extract the BERT features at the paragraph level, configured according to the dataset used and the BERT model assigned by corpus according to the README. Remember to include the dataset files.\n",
        "!bash extract_bert_features.sh"
      ],
      "execution_count": null,
      "outputs": []
    },
    {
      "cell_type": "code",
      "metadata": {
        "id": "IhgWd0ZXATio"
      },
      "source": [
        "%cd .."
      ],
      "execution_count": null,
      "outputs": []
    },
    {
      "cell_type": "code",
      "metadata": {
        "id": "dDitvYXSAYBv"
      },
      "source": [
        "# Next, we build vocabulary \n",
        "!python get_char_vocab.py train_germ.jsonlines dev_germ.jsonlines"
      ],
      "execution_count": null,
      "outputs": []
    },
    {
      "cell_type": "code",
      "metadata": {
        "id": "eqGUguOgA9EY"
      },
      "source": [
        "# We train the model, remember to configure in experiments.conf everything necessary to run the experiments in each dataset.\n",
        "!python train.py experiments.conf"
      ],
      "execution_count": null,
      "outputs": []
    },
    {
      "cell_type": "code",
      "metadata": {
        "id": "x-Bw30wkBYbY"
      },
      "source": [
        "# We evaluate the model\n",
        "!python evaluate.py experiments.conf"
      ],
      "execution_count": null,
      "outputs": []
    }
  ]
}